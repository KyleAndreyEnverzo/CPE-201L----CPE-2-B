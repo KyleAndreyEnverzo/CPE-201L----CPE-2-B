{
  "nbformat": 4,
  "nbformat_minor": 0,
  "metadata": {
    "colab": {
      "provenance": [],
      "authorship_tag": "ABX9TyO6pbc9B+ljUjGWyYuaM3eV",
      "include_colab_link": true
    },
    "kernelspec": {
      "name": "python3",
      "display_name": "Python 3"
    },
    "language_info": {
      "name": "python"
    }
  },
  "cells": [
    {
      "cell_type": "markdown",
      "metadata": {
        "id": "view-in-github",
        "colab_type": "text"
      },
      "source": [
        "<a href=\"https://colab.research.google.com/github/KyleAndreyEnverzo/CPE-201L----CPE-2-B/blob/main/ENVERZO%20ARRAY.ipynb\" target=\"_parent\"><img src=\"https://colab.research.google.com/assets/colab-badge.svg\" alt=\"Open In Colab\"/></a>"
      ]
    },
    {
      "cell_type": "code",
      "execution_count": null,
      "metadata": {
        "colab": {
          "base_uri": "https://localhost:8080/"
        },
        "id": "pr48iBftb-3p",
        "outputId": "3645e106-d37b-4c16-8c7c-9b17c23cd0d7"
      },
      "outputs": [
        {
          "metadata": {
            "tags": null
          },
          "name": "stdout",
          "output_type": "stream",
          "text": [
            "Original array: [10, 60, 30, 40, 50]\n",
            "\n",
            "Menu:\n",
            "1. Traverse array\n",
            "2. Reverse array\n",
            "3. Sort array\n",
            "4. Insert element\n",
            "5. Delete element\n",
            "6. Modify element\n",
            "7. Exit\n"
          ]
        }
      ],
      "source": [
        "def traverse_array(arr):\n",
        "    \"\"\"Function to traverse and print all elements in the array\"\"\"\n",
        "    print(\"Traversing the array:\")\n",
        "    for i, element in enumerate(arr):\n",
        "        print(f\"Index {i}: {element}\")\n",
        "\n",
        "def reverse(arr):\n",
        "    reversed_arr = arr[::-1]\n",
        "    print(reversed_arr)\n",
        "\n",
        "def sort_array(arr):\n",
        "    arr.sort()\n",
        "    print(arr)\n",
        "\n",
        "def insert_element(arr):\n",
        "    try:\n",
        "       user_value = int(input(\"Enter the value to insert: \"))\n",
        "       user_index = int(input(\"Enter the index value: \"))\n",
        "       arr.insert(user_index, user_value)\n",
        "       print(arr)\n",
        "    except ValueError:\n",
        "        print(\"Invalid input. Please enter a valid integer.\")\n",
        "    except IndexError:\n",
        "        print(\"Index out of range. Please enter a valid index.\")\n",
        "\n",
        "def delete_element(arr):\n",
        "    try:\n",
        "        value = int(input(\"Enter the value to delete: \"))\n",
        "        if value in arr:\n",
        "            arr.remove(value)\n",
        "            print(\"Element deleted. Updated array:\", arr)\n",
        "        else:\n",
        "            print(\"Value not found in array.\")\n",
        "    except ValueError:\n",
        "        print(\"Please enter a valid number.\")\n",
        "\n",
        "def modify_element(arr):\n",
        "    try:\n",
        "        index = int(input(\"Enter the index to modify: \"))\n",
        "        if 0 <= index < len(arr):\n",
        "            new_value = int(input(\"Enter the new value: \"))\n",
        "            arr[index] = new_value\n",
        "            print(\"Element modified. Updated array:\", arr)\n",
        "        else:\n",
        "            print(\"Invalid index.\")\n",
        "    except ValueError:\n",
        "        print(\"Please enter valid integers.\")\n",
        "\n",
        "\n",
        "\n",
        "#sort()\n",
        "#insert()\n",
        "#delete()\n",
        "#modify()\n",
        "\n",
        "\n",
        "def main():\n",
        "    # Initialize an array\n",
        "    arr = [10, 60, 30, 40, 50]\n",
        "    print(\"Original array:\", arr)\n",
        "\n",
        "    while True:\n",
        "        print(\"\\nMenu:\")\n",
        "        print(\"1. Traverse array\")\n",
        "        print(\"2. Reverse array\")\n",
        "        print(\"3. Sort array\")\n",
        "        print(\"4. Insert element\")\n",
        "        print(\"5. Delete element\")\n",
        "        print(\"6. Modify element\")\n",
        "        print(\"7. Exit\")\n",
        "        choice = input(\"Enter your choice (1 to 7): \")\n",
        "\n",
        "        if choice == '1':\n",
        "            traverse_array(arr)\n",
        "        elif choice == '2':\n",
        "            reverse(arr)\n",
        "        elif choice == '3':\n",
        "            sort_array(arr)\n",
        "        elif choice == '4':\n",
        "            insert_element(arr)\n",
        "        elif choice == '5':\n",
        "            delete_element(arr)\n",
        "        elif choice == '6':\n",
        "            modify_element(arr)\n",
        "        elif choice == '7':\n",
        "            break\n",
        "        else:\n",
        "            print(\"Invalid choice. Please enter a number between 1 to 7.\")\n",
        "\n",
        "if __name__ == \"__main__\":\n",
        "    main()"
      ]
    }
  ]
}