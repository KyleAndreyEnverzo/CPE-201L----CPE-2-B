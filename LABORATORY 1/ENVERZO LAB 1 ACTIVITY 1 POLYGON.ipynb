{
  "nbformat": 4,
  "nbformat_minor": 0,
  "metadata": {
    "colab": {
      "provenance": [],
      "authorship_tag": "ABX9TyN6n5wi5NSX48itv9FMnZr1",
      "include_colab_link": true
    },
    "kernelspec": {
      "name": "python3",
      "display_name": "Python 3"
    },
    "language_info": {
      "name": "python"
    }
  },
  "cells": [
    {
      "cell_type": "markdown",
      "metadata": {
        "id": "view-in-github",
        "colab_type": "text"
      },
      "source": [
        "<a href=\"https://colab.research.google.com/github/KyleAndreyEnverzo/CPE-201L----CPE-2-B/blob/main/ENVERZO%20LAB%201%20ACTIVITY%201%20POLYGON.ipynb\" target=\"_parent\"><img src=\"https://colab.research.google.com/assets/colab-badge.svg\" alt=\"Open In Colab\"/></a>"
      ]
    },
    {
      "cell_type": "code",
      "source": [
        "class Polygons:\n",
        "    def __init__(self, name: str, sides: int, area: float):\n",
        "        self._name = name\n",
        "        self._sides = sides\n",
        "        self._area = area\n",
        "\n",
        "    def set_name(self, name: str):\n",
        "        self._name = name\n",
        "\n",
        "    def get_name(self) -> str:\n",
        "        return self._name\n",
        "\n",
        "    def set_sides(self, sides: int):\n",
        "        self._sides = sides\n",
        "\n",
        "    def get_sides(self) -> int:\n",
        "        return self._sides\n",
        "\n",
        "    def set_area(self, area: float):\n",
        "        self._area = area\n",
        "\n",
        "    def get_area(self) -> float:\n",
        "        return self._area\n",
        "\n",
        "\n",
        "# Create an instance of Polygons\n",
        "polygon = Polygons(name=\"Triangle\", sides=3, area=15.5)\n",
        "\n",
        "# Print the polygon's information\n",
        "print(\"Polygon Name:\", polygon.get_name())\n",
        "print(\"Number of Sides:\", polygon.get_sides())\n",
        "print(\"Area:\", polygon.get_area())"
      ],
      "metadata": {
        "colab": {
          "base_uri": "https://localhost:8080/"
        },
        "id": "4jjWURhxkJP8",
        "outputId": "c392ee9f-7e4d-42ff-bab6-df6a4cf27d2f"
      },
      "execution_count": null,
      "outputs": [
        {
          "output_type": "stream",
          "name": "stdout",
          "text": [
            "Polygon Name: Triangle\n",
            "Number of Sides: 3\n",
            "Area: 15.5\n"
          ]
        }
      ]
    }
  ]
}