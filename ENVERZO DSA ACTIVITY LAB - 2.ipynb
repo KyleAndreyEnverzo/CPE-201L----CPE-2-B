{
  "nbformat": 4,
  "nbformat_minor": 0,
  "metadata": {
    "colab": {
      "provenance": [],
      "authorship_tag": "ABX9TyPyrJ81liUiyzE6VpUn2P85",
      "include_colab_link": true
    },
    "kernelspec": {
      "name": "python3",
      "display_name": "Python 3"
    },
    "language_info": {
      "name": "python"
    }
  },
  "cells": [
    {
      "cell_type": "markdown",
      "metadata": {
        "id": "view-in-github",
        "colab_type": "text"
      },
      "source": [
        "<a href=\"https://colab.research.google.com/github/KyleAndreyEnverzo/CPE-201L----CPE-2-B/blob/main/ENVERZO%20DSA%20ACTIVITY%20LAB%20-%202.ipynb\" target=\"_parent\"><img src=\"https://colab.research.google.com/assets/colab-badge.svg\" alt=\"Open In Colab\"/></a>"
      ]
    },
    {
      "cell_type": "code",
      "execution_count": 7,
      "metadata": {
        "colab": {
          "base_uri": "https://localhost:8080/"
        },
        "id": "J3XNpYmBiiHb",
        "outputId": "46638aad-2756-476f-c334-ff50276fcfb1"
      },
      "outputs": [
        {
          "output_type": "stream",
          "name": "stdout",
          "text": [
            "Min: 2\n",
            "Max: 2024\n"
          ]
        }
      ],
      "source": [
        "def find_min_max(seq):\n",
        "    if len(seq) == 1:\n",
        "        return seq[0], seq[0]\n",
        "    else:\n",
        "        min_rest, max_rest = find_min_max(seq[1:])\n",
        "        return min(seq[0], min_rest), max(seq[0], max_rest)\n",
        "\n",
        "numbers = [2, 21, 7, 4, 2024]\n",
        "minimum, maximum = find_min_max(numbers)\n",
        "print(\"Min:\", minimum)\n",
        "print(\"Max:\", maximum)"
      ]
    }
  ]
}