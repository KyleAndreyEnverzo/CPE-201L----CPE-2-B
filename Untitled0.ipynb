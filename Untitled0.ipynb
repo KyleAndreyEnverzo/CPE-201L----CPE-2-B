{
  "nbformat": 4,
  "nbformat_minor": 0,
  "metadata": {
    "colab": {
      "provenance": [],
      "authorship_tag": "ABX9TyPEdnZi7D/v9+DxRuuZB1oI",
      "include_colab_link": true
    },
    "kernelspec": {
      "name": "python3",
      "display_name": "Python 3"
    },
    "language_info": {
      "name": "python"
    }
  },
  "cells": [
    {
      "cell_type": "markdown",
      "metadata": {
        "id": "view-in-github",
        "colab_type": "text"
      },
      "source": [
        "<a href=\"https://colab.research.google.com/github/KyleAndreyEnverzo/CPE-201L----CPE-2-B/blob/main/Untitled0.ipynb\" target=\"_parent\"><img src=\"https://colab.research.google.com/assets/colab-badge.svg\" alt=\"Open In Colab\"/></a>"
      ]
    },
    {
      "cell_type": "code",
      "execution_count": 11,
      "metadata": {
        "id": "x4xBfM-jWwi4"
      },
      "outputs": [],
      "source": [
        "def rectangle_perimeter(lenght, width ):\n",
        "  perimeter =(lenght + width)\n",
        "  return perimeter\n",
        "\n",
        "  lenght = float(input(\"Enter the lenght of the rectangle:\"))\n",
        "  width = float(input(\"Enter the width of the rectangle\"))\n",
        "\n",
        "  perimeter = rectangle_perimeter(lenght, width)\n",
        "  print(f\"The perimeter of the ractangle is: {perimeter}\")"
      ]
    }
  ]
}