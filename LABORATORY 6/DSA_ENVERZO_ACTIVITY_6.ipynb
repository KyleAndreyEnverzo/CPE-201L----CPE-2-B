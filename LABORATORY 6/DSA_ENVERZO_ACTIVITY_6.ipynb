{
  "nbformat": 4,
  "nbformat_minor": 0,
  "metadata": {
    "colab": {
      "provenance": [],
      "authorship_tag": "ABX9TyP7jY1CkLEAEMMY7wI8cagR",
      "include_colab_link": true
    },
    "kernelspec": {
      "name": "python3",
      "display_name": "Python 3"
    },
    "language_info": {
      "name": "python"
    }
  },
  "cells": [
    {
      "cell_type": "markdown",
      "metadata": {
        "id": "view-in-github",
        "colab_type": "text"
      },
      "source": [
        "<a href=\"https://colab.research.google.com/github/KyleAndreyEnverzo/CPE-201L----CPE-2-B/blob/main/DSA_ENVERZO_ACTIVITY_6.ipynb\" target=\"_parent\"><img src=\"https://colab.research.google.com/assets/colab-badge.svg\" alt=\"Open In Colab\"/></a>"
      ]
    },
    {
      "cell_type": "code",
      "execution_count": 5,
      "metadata": {
        "colab": {
          "base_uri": "https://localhost:8080/"
        },
        "id": "IFW_4lt_qO9Y",
        "outputId": "733484e9-d6c9-468a-f123-8c79b4ea88d1"
      },
      "outputs": [
        {
          "output_type": "stream",
          "name": "stdout",
          "text": [
            "Prime Numbers in Linked List:\n",
            "2, 3, 5, 7, 11, 13, 17, 19, None\n",
            "Head of list: 2\n",
            "Tail of list: 19\n"
          ]
        }
      ],
      "source": [
        "# Define Node class\n",
        "class Node:\n",
        "    def __init__(self, data):\n",
        "        self.data = data\n",
        "        self.next = None\n",
        "\n",
        "# Define LinkedList class\n",
        "class LinkedList:\n",
        "    def __init__(self):\n",
        "        self.head = None\n",
        "\n",
        "    def append(self, data):\n",
        "        new_node = Node(data)\n",
        "        if not self.head:   # If list is empty\n",
        "            self.head = new_node\n",
        "        else:\n",
        "            current = self.head\n",
        "            while current.next:\n",
        "                current = current.next\n",
        "            current.next = new_node\n",
        "\n",
        "    def display(self):\n",
        "        current = self.head\n",
        "        while current:\n",
        "            print(current.data, end=\", \")\n",
        "            current = current.next\n",
        "        print(\"None\")\n",
        "\n",
        "    def get_head(self):\n",
        "        return self.head.data if self.head else None\n",
        "\n",
        "    def get_tail(self):\n",
        "        current = self.head\n",
        "        if not current:\n",
        "            return None\n",
        "        while current.next:\n",
        "            current = current.next\n",
        "        return current.data\n",
        "\n",
        "# Function to check prime\n",
        "def is_prime(num):\n",
        "    if num < 2:\n",
        "        return False\n",
        "    for i in range(2, int(num**0.5)+1):\n",
        "        if num % i == 0:\n",
        "            return False\n",
        "    return True\n",
        "\n",
        "# Create linked list of primes < 20\n",
        "ll = LinkedList()\n",
        "for i in range(20):\n",
        "    if is_prime(i):\n",
        "        ll.append(i)\n",
        "\n",
        "# Display results\n",
        "print(\"Prime Numbers in Linked List:\")\n",
        "ll.display()\n",
        "\n",
        "print(\"Head of list:\", ll.get_head())\n",
        "print(\"Tail of list:\", ll.get_tail())"
      ]
    },
    {
      "cell_type": "code",
      "source": [],
      "metadata": {
        "id": "C-stJYX792PS"
      },
      "execution_count": null,
      "outputs": []
    }
  ]
}