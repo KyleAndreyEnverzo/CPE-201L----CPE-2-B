{
  "nbformat": 4,
  "nbformat_minor": 0,
  "metadata": {
    "colab": {
      "provenance": [],
      "authorship_tag": "ABX9TyMQNeMFi4DjSR5YtX4Dbtce",
      "include_colab_link": true
    },
    "kernelspec": {
      "name": "python3",
      "display_name": "Python 3"
    },
    "language_info": {
      "name": "python"
    }
  },
  "cells": [
    {
      "cell_type": "markdown",
      "metadata": {
        "id": "view-in-github",
        "colab_type": "text"
      },
      "source": [
        "<a href=\"https://colab.research.google.com/github/KyleAndreyEnverzo/CPE-201L----CPE-2-B/blob/main/LABORATORY%209.ipynb\" target=\"_parent\"><img src=\"https://colab.research.google.com/assets/colab-badge.svg\" alt=\"Open In Colab\"/></a>"
      ]
    },
    {
      "cell_type": "code",
      "execution_count": 3,
      "metadata": {
        "colab": {
          "base_uri": "https://localhost:8080/"
        },
        "id": "i9y3q-5xNkzL",
        "outputId": "c29f8b4a-780b-47e3-a3cc-e03ecde9f802"
      },
      "outputs": [
        {
          "output_type": "stream",
          "name": "stdout",
          "text": [
            "Enqueued Element: 1\n",
            "Enqueued Element: 2\n",
            "Enqueued Element: 3\n",
            "Enqueued Element: 4\n",
            "Enqueued Element: 5\n",
            "The elements in the queue are: [1, 2, 3, 4, 5]\n",
            "Dequeued element: 1\n",
            "Queue after dequeue: [2, 3, 4, 5]\n"
          ]
        }
      ],
      "source": [
        "# Creating an empty queue\n",
        "def create_queue():\n",
        "    queue = []\n",
        "    return queue\n",
        "\n",
        "# Checking if the queue is empty\n",
        "def is_empty(queue):\n",
        "    return len(queue) == 0\n",
        "\n",
        "# Adding (enqueue) an element to the queue\n",
        "def enqueue(queue, item):\n",
        "    queue.append(item)\n",
        "    print(\"Enqueued Element:\", item)\n",
        "\n",
        "# Removing (dequeue) an element from the queue\n",
        "def dequeue(queue):\n",
        "    if is_empty(queue):\n",
        "        return \"The queue is empty\"\n",
        "    return queue.pop(0)\n",
        "\n",
        "# Viewing the front element\n",
        "def front(queue):\n",
        "    if is_empty(queue):\n",
        "        return \"The queue is empty\"\n",
        "    return queue[0]\n",
        "\n",
        "# Sample test\n",
        "queue = create_queue()\n",
        "enqueue(queue, 1)\n",
        "enqueue(queue, 2)\n",
        "enqueue(queue, 3)\n",
        "enqueue(queue, 4)\n",
        "enqueue(queue, 5)\n",
        "\n",
        "print(\"The elements in the queue are:\", queue)\n",
        "print(\"Dequeued element:\", dequeue(queue))\n",
        "print(\"Queue after dequeue:\", queue)"
      ]
    }
  ]
}