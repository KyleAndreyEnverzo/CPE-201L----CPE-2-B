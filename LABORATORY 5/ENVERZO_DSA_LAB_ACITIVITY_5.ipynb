{
  "nbformat": 4,
  "nbformat_minor": 0,
  "metadata": {
    "colab": {
      "provenance": [],
      "authorship_tag": "ABX9TyMJkARTCXKMmbeii7ZWlk88",
      "include_colab_link": true
    },
    "kernelspec": {
      "name": "python3",
      "display_name": "Python 3"
    },
    "language_info": {
      "name": "python"
    }
  },
  "cells": [
    {
      "cell_type": "markdown",
      "metadata": {
        "id": "view-in-github",
        "colab_type": "text"
      },
      "source": [
        "<a href=\"https://colab.research.google.com/github/KyleAndreyEnverzo/CPE-201L----CPE-2-B/blob/main/ENVERZO_DSA_LAB_ACITIVITY_5.ipynb\" target=\"_parent\"><img src=\"https://colab.research.google.com/assets/colab-badge.svg\" alt=\"Open In Colab\"/></a>"
      ]
    },
    {
      "cell_type": "code",
      "source": [
        "# Problem 1: Create an array of 10 integers, display items, access elements, and compute sum\n",
        "numbers = [1, 2, 3, 4, 5, 6, 7, 8, 9, 10]\n",
        "\n",
        "# Display the array\n",
        "print(\"Array items:\", numbers)\n",
        "\n",
        "# Access elements by index\n",
        "print(\"First element:\", numbers[0])\n",
        "print(\"Fifth element:\", numbers[4])\n",
        "print(\"Last element:\", numbers[-1])\n",
        "\n",
        "# Compute sum\n",
        "total = sum(numbers)\n",
        "print(\"Sum of elements:\", total)"
      ],
      "metadata": {
        "colab": {
          "base_uri": "https://localhost:8080/"
        },
        "id": "GvX9xG45JHN9",
        "outputId": "6d0e105b-5aeb-4fdd-fc52-84d3bbb68e73"
      },
      "execution_count": 2,
      "outputs": [
        {
          "output_type": "stream",
          "name": "stdout",
          "text": [
            "Array items: [1, 2, 3, 4, 5, 6, 7, 8, 9, 10]\n",
            "First element: 1\n",
            "Fifth element: 5\n",
            "Last element: 10\n",
            "Sum of elements: 55\n"
          ]
        }
      ]
    },
    {
      "cell_type": "code",
      "source": [
        "# Problem 2: Append a new item to the end of the array\n",
        "numbers = [1, 2, 3, 4, 5, 6, 7, 8, 9, 10]\n",
        "print(\"Original array:\", numbers)\n",
        "\n",
        "# Append new item\n",
        "numbers.append(11)\n",
        "print(\"After appending 11:\", numbers)"
      ],
      "metadata": {
        "colab": {
          "base_uri": "https://localhost:8080/"
        },
        "id": "OKA3oxc4Jqcm",
        "outputId": "ad9e4b46-1c3e-4a98-b7ae-fc407fc5dd17"
      },
      "execution_count": 3,
      "outputs": [
        {
          "output_type": "stream",
          "name": "stdout",
          "text": [
            "Original array: [1, 2, 3, 4, 5, 6, 7, 8, 9, 10]\n",
            "After appending 11: [1, 2, 3, 4, 5, 6, 7, 8, 9, 10, 11]\n"
          ]
        }
      ]
    },
    {
      "cell_type": "code",
      "source": [
        "# Problem 3: Insert a new item before the second element\n",
        "numbers = [1, 2, 3, 4, 5, 6, 7, 8, 9, 10]\n",
        "print(\"Original array:\", numbers)\n",
        "\n",
        "# Insert before second element (index 1)\n",
        "numbers.insert(1, 99)\n",
        "print(\"After inserting 99 at position 1:\", numbers)"
      ],
      "metadata": {
        "colab": {
          "base_uri": "https://localhost:8080/"
        },
        "id": "Bg3ureZSJ9JN",
        "outputId": "18df59d5-62b7-4bac-e150-d2c912f16e7e"
      },
      "execution_count": 4,
      "outputs": [
        {
          "output_type": "stream",
          "name": "stdout",
          "text": [
            "Original array: [1, 2, 3, 4, 5, 6, 7, 8, 9, 10]\n",
            "After inserting 99 at position 1: [1, 99, 2, 3, 4, 5, 6, 7, 8, 9, 10]\n"
          ]
        }
      ]
    },
    {
      "cell_type": "code",
      "source": [
        "# Problem 4: Reverse the order of the array\n",
        "numbers = [5, 4, 3, 2, 1]\n",
        "print(\"Original array:\", numbers)\n",
        "\n",
        "# Reverse the array\n",
        "numbers.reverse()\n",
        "print(\"Reversed array:\", numbers)"
      ],
      "metadata": {
        "colab": {
          "base_uri": "https://localhost:8080/"
        },
        "id": "SWjgRzuoKUGj",
        "outputId": "70ce6288-028b-4e0b-c305-30ab6d24158d"
      },
      "execution_count": 5,
      "outputs": [
        {
          "output_type": "stream",
          "name": "stdout",
          "text": [
            "Original array: [5, 4, 3, 2, 1]\n",
            "Reversed array: [1, 2, 3, 4, 5]\n"
          ]
        }
      ]
    },
    {
      "cell_type": "code",
      "source": [
        "# Problem 5: Get the length of the array\n",
        "numbers = [5, 4, 3, 2, 1]\n",
        "print(\"Original array:\", numbers)\n",
        "\n",
        "# Get length\n",
        "length = len(numbers)\n",
        "print(\"Array length:\", length)"
      ],
      "metadata": {
        "colab": {
          "base_uri": "https://localhost:8080/"
        },
        "id": "MDCM_-fWKfcj",
        "outputId": "71e644b6-a289-4335-a8ab-8054b857c4f8"
      },
      "execution_count": 6,
      "outputs": [
        {
          "output_type": "stream",
          "name": "stdout",
          "text": [
            "Original array: [5, 4, 3, 2, 1]\n",
            "Array length: 5\n"
          ]
        }
      ]
    }
  ]
}