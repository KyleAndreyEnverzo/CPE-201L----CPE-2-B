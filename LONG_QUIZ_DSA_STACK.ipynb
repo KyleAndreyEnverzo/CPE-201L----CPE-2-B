{
  "nbformat": 4,
  "nbformat_minor": 0,
  "metadata": {
    "colab": {
      "provenance": [],
      "authorship_tag": "ABX9TyO+XfdTpQz+coFIGNr2uspW",
      "include_colab_link": true
    },
    "kernelspec": {
      "name": "python3",
      "display_name": "Python 3"
    },
    "language_info": {
      "name": "python"
    }
  },
  "cells": [
    {
      "cell_type": "markdown",
      "metadata": {
        "id": "view-in-github",
        "colab_type": "text"
      },
      "source": [
        "<a href=\"https://colab.research.google.com/github/KyleAndreyEnverzo/CPE-201L----CPE-2-B/blob/main/LONG_QUIZ_DSA_STACK.ipynb\" target=\"_parent\"><img src=\"https://colab.research.google.com/assets/colab-badge.svg\" alt=\"Open In Colab\"/></a>"
      ]
    },
    {
      "cell_type": "code",
      "source": [
        "# SKILL TEST\n",
        "# MY PROGRAM IS A STACK\n",
        "# KYLE POGI\n",
        "\n",
        "class Stacks:\n",
        "    def __init__(self):\n",
        "        self.stack = []\n",
        "\n",
        "    def push(self, value):\n",
        "        self.stack.append(value)\n",
        "\n",
        "    def pop(self):\n",
        "        if len(self.stack) <= 0:\n",
        "            print(\"There are no characters in this stack!\")\n",
        "        else:\n",
        "            return self.stack.pop()\n",
        "\n",
        "    def traverse(self):\n",
        "        if len(self.stack) <= 0:\n",
        "            print(\"There are no characters in this stack!\")\n",
        "        else:\n",
        "            stack_copy = self.stack[::-1]  # Reverses the stack\n",
        "            stack_copy.insert(0, \"_\")  # Insert dito yung underscore sa front ng reversed stack\n",
        "            for x in stack_copy:\n",
        "                print(x, end=\" \")\n",
        "\n",
        "# Create stack instance\n",
        "myName = Stacks()\n",
        "\n",
        "# Pushing the letters of \"KYLE ANDREY ENVERZO\"\n",
        "myName.push('K')\n",
        "myName.push('Y')\n",
        "myName.push('L')\n",
        "myName.push('E')\n",
        "myName.push(' ')\n",
        "myName.push('A')\n",
        "myName.push('N')\n",
        "myName.push('D')\n",
        "myName.push('R')\n",
        "myName.push('E')\n",
        "myName.push('Y')\n",
        "myName.push(' ')\n",
        "myName.push('E')\n",
        "myName.push('N')\n",
        "myName.push('V')\n",
        "myName.push('E')\n",
        "myName.push('R')\n",
        "myName.push('Z')\n",
        "myName.push('O')\n",
        "myName.push('A')\n",
        "myName.push('B')\n",
        "myName.push('C')\n",
        "myName.pop()\n",
        "myName.pop()\n",
        "myName.pop()\n",
        "\n",
        "myName.traverse()\n",
        "\n"
      ],
      "metadata": {
        "colab": {
          "base_uri": "https://localhost:8080/"
        },
        "id": "qcc0o-LcK54X",
        "outputId": "45046b00-f286-411d-a193-284ff86d899e"
      },
      "execution_count": 30,
      "outputs": [
        {
          "output_type": "stream",
          "name": "stdout",
          "text": [
            "_ O Z R E V N E   Y E R D N A   E L Y K "
          ]
        }
      ]
    }
  ]
}