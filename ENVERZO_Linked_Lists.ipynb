{
  "nbformat": 4,
  "nbformat_minor": 0,
  "metadata": {
    "colab": {
      "provenance": [],
      "include_colab_link": true
    },
    "kernelspec": {
      "name": "python3",
      "display_name": "Python 3"
    },
    "language_info": {
      "name": "python"
    }
  },
  "cells": [
    {
      "cell_type": "markdown",
      "metadata": {
        "id": "view-in-github",
        "colab_type": "text"
      },
      "source": [
        "<a href=\"https://colab.research.google.com/github/KyleAndreyEnverzo/CPE-201L----CPE-2-B/blob/main/ENVERZO_Linked_Lists.ipynb\" target=\"_parent\"><img src=\"https://colab.research.google.com/assets/colab-badge.svg\" alt=\"Open In Colab\"/></a>"
      ]
    },
    {
      "cell_type": "code",
      "source": [
        "# Node class\n",
        "class Node:\n",
        "    # Function to initialize the node object\n",
        "    def __init__(self, data):\n",
        "        self.data = data  # Assign data\n",
        "        self.next = None  # Initialize next as null\n",
        "\n",
        "\n",
        "# Linked List class\n",
        "class LinkedList:\n",
        "    # Function to initialize the Linked List object\n",
        "    def __init__(self):\n",
        "        self.head = None\n",
        "\n",
        "    # Function to print linked list data\n",
        "    def print_data(self):\n",
        "        current = self.head\n",
        "        while current:\n",
        "            print(current.data)\n",
        "            current = current.next\n",
        "\n",
        "\n",
        "if __name__ == '__main__':\n",
        "    # Start with the empty list\n",
        "    llist = LinkedList()\n",
        "\n",
        "    # Create nodes\n",
        "    llist.head = Node(\"A\")   # Node 1\n",
        "    second = Node(\"B\")       # Node 2\n",
        "    third = Node(\"C\")        # Node 3\n",
        "    fourth = Node(\"D\")       # Node 4\n",
        "\n",
        "    # Link nodes together\n",
        "    llist.head.next = second\n",
        "    second.next = third\n",
        "    third.next = fourth\n",
        "\n",
        "    # Print the linked list\n",
        "    llist.print_data()"
      ],
      "metadata": {
        "id": "YJ9_XkSwfRbh",
        "outputId": "bc7d01d0-f2fd-460e-e06c-3a5cc4ac8296",
        "colab": {
          "base_uri": "https://localhost:8080/"
        }
      },
      "execution_count": null,
      "outputs": [
        {
          "output_type": "stream",
          "name": "stdout",
          "text": [
            "A\n",
            "B\n",
            "C\n",
            "D\n"
          ]
        }
      ]
    },
    {
      "cell_type": "code",
      "source": [
        "# Node class\n",
        "class Node:\n",
        "    # Function to initialize the node object\n",
        "    def __init__(self, data):\n",
        "        self.data = data  # Assign data\n",
        "        self.next = None  # Initialize next as null\n",
        "\n",
        "\n",
        "# Linked List class\n",
        "class LinkedList:\n",
        "    # Function to initialize the Linked List object\n",
        "    def __init__(self):\n",
        "        self.head = None\n",
        "\n",
        "    # Function to print linked list data\n",
        "    def print_data(self):\n",
        "        current = self.head\n",
        "        while current:\n",
        "            print(current.data)\n",
        "            current = current.next\n",
        "\n",
        "    # Function length_checker: checks the length and prints message if it's max\n",
        "    def length_checker(self):\n",
        "        count = 0\n",
        "        current = self.head\n",
        "        while current:\n",
        "            count += 1\n",
        "            current = current.next\n",
        "        if count == 4:   # maximum condition\n",
        "            message = \"Length is max\"\n",
        "        else:\n",
        "            message = f\"Length of linked list: {count}\"\n",
        "        print(message)\n",
        "        return message\n",
        "\n",
        "\n",
        "if __name__ == '__main__':\n",
        "    # Start with the empty list\n",
        "    llist = LinkedList()\n",
        "\n",
        "    # Create nodes\n",
        "    llist.head = Node(\"A\")   # Node 1\n",
        "    second = Node(\"B\")       # Node 2\n",
        "    third = Node(\"C\")        # Node 3\n",
        "    fourth = Node(\"D\")       # Node 4\n",
        "\n",
        "    # Link nodes together\n",
        "    llist.head.next = second\n",
        "    second.next = third\n",
        "    third.next = fourth\n",
        "\n",
        "    # Print the linked list\n",
        "    llist.print_data()\n",
        "\n",
        "    # Print the length of the linked list using function lemght_checker\n",
        "    llist.length_checker()"
      ],
      "metadata": {
        "id": "-oAUgHMDjdaQ",
        "outputId": "260e3cc8-cc25-47c0-e84b-731bcfdad0d5",
        "colab": {
          "base_uri": "https://localhost:8080/"
        }
      },
      "execution_count": 1,
      "outputs": [
        {
          "output_type": "stream",
          "name": "stdout",
          "text": [
            "A\n",
            "B\n",
            "C\n",
            "D\n",
            "Length is max\n"
          ]
        }
      ]
    }
  ]
}