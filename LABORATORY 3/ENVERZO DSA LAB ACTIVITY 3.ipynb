{
  "nbformat": 4,
  "nbformat_minor": 0,
  "metadata": {
    "colab": {
      "provenance": [],
      "authorship_tag": "ABX9TyNGCTtNR93b9YRJUrG5d1ve",
      "include_colab_link": true
    },
    "kernelspec": {
      "name": "python3",
      "display_name": "Python 3"
    },
    "language_info": {
      "name": "python"
    }
  },
  "cells": [
    {
      "cell_type": "markdown",
      "metadata": {
        "id": "view-in-github",
        "colab_type": "text"
      },
      "source": [
        "<a href=\"https://colab.research.google.com/github/KyleAndreyEnverzo/CPE-201L----CPE-2-B/blob/main/ENVERZO%20DSA%20LAB%20ACTIVITY%203.ipynb\" target=\"_parent\"><img src=\"https://colab.research.google.com/assets/colab-badge.svg\" alt=\"Open In Colab\"/></a>"
      ]
    },
    {
      "cell_type": "code",
      "execution_count": 14,
      "metadata": {
        "colab": {
          "base_uri": "https://localhost:8080/"
        },
        "id": "co0dWLvayIiB",
        "outputId": "b5dd6f9b-a72a-4583-f86c-b86b7a76d84c"
      },
      "outputs": [
        {
          "output_type": "stream",
          "name": "stdout",
          "text": [
            "Sum of even numbers: 186\n"
          ]
        }
      ],
      "source": [
        "numbers = [26, 49, 98, 87, 62, 75]\n",
        "sum_of_evens = 0\n",
        "\n",
        "for num in numbers:\n",
        "    if num % 2 == 0:  # Changed condition to check for even numbers\n",
        "        sum_of_evens += num\n",
        "\n",
        "print(\"Sum of even numbers:\", sum_of_evens)"
      ]
    }
  ]
}