{
  "nbformat": 4,
  "nbformat_minor": 0,
  "metadata": {
    "colab": {
      "provenance": [],
      "authorship_tag": "ABX9TyPo4zcLc1ZJydka+7v5uoW/",
      "include_colab_link": true
    },
    "kernelspec": {
      "name": "python3",
      "display_name": "Python 3"
    },
    "language_info": {
      "name": "python"
    }
  },
  "cells": [
    {
      "cell_type": "markdown",
      "metadata": {
        "id": "view-in-github",
        "colab_type": "text"
      },
      "source": [
        "<a href=\"https://colab.research.google.com/github/KyleAndreyEnverzo/CPE-201L----CPE-2-B/blob/main/MIDTERM_EXAM_SKILL_TEST.ipynb\" target=\"_parent\"><img src=\"https://colab.research.google.com/assets/colab-badge.svg\" alt=\"Open In Colab\"/></a>"
      ]
    },
    {
      "cell_type": "code",
      "source": [
        "# MIDTERM EXAM SKILL TEST\n",
        "\n",
        "# Array of integers less than 50 but not less than 20\n",
        "arr = list(range(20, 50))\n",
        "\n",
        "# a) Display the elements\n",
        "print(\"Array elements:\")\n",
        "for i, val in enumerate(arr):\n",
        "    print(f\"Index {i}: {val}\")\n",
        "\n",
        "# b) Count the number of elements\n",
        "print(\"\\nNumber of elements:\", len(arr))\n",
        "\n",
        "# c) Count the number of odd and even integers\n",
        "odd_count = sum(1 for x in arr if x % 2 != 0)\n",
        "even_count = sum(1 for x in arr if x % 2 == 0)\n",
        "\n",
        "print(\"Number of odd integers:\", odd_count)\n",
        "print(\"Number of even integers:\", even_count)\n"
      ],
      "metadata": {
        "colab": {
          "base_uri": "https://localhost:8080/"
        },
        "id": "7bROdeq7dOBj",
        "outputId": "3b067a55-72b9-4952-f2b8-bce8b04d28e5"
      },
      "execution_count": 4,
      "outputs": [
        {
          "output_type": "stream",
          "name": "stdout",
          "text": [
            "Array elements:\n",
            "Index 0: 20\n",
            "Index 1: 21\n",
            "Index 2: 22\n",
            "Index 3: 23\n",
            "Index 4: 24\n",
            "Index 5: 25\n",
            "Index 6: 26\n",
            "Index 7: 27\n",
            "Index 8: 28\n",
            "Index 9: 29\n",
            "Index 10: 30\n",
            "Index 11: 31\n",
            "Index 12: 32\n",
            "Index 13: 33\n",
            "Index 14: 34\n",
            "Index 15: 35\n",
            "Index 16: 36\n",
            "Index 17: 37\n",
            "Index 18: 38\n",
            "Index 19: 39\n",
            "Index 20: 40\n",
            "Index 21: 41\n",
            "Index 22: 42\n",
            "Index 23: 43\n",
            "Index 24: 44\n",
            "Index 25: 45\n",
            "Index 26: 46\n",
            "Index 27: 47\n",
            "Index 28: 48\n",
            "Index 29: 49\n",
            "\n",
            "Number of elements: 30\n",
            "Number of odd integers: 15\n",
            "Number of even integers: 15\n"
          ]
        }
      ]
    }
  ]
}