{
  "nbformat": 4,
  "nbformat_minor": 0,
  "metadata": {
    "colab": {
      "provenance": [],
      "authorship_tag": "ABX9TyORxQO9lG9TAUT1623JmJ3a",
      "include_colab_link": true
    },
    "kernelspec": {
      "name": "python3",
      "display_name": "Python 3"
    },
    "language_info": {
      "name": "python"
    }
  },
  "cells": [
    {
      "cell_type": "markdown",
      "metadata": {
        "id": "view-in-github",
        "colab_type": "text"
      },
      "source": [
        "<a href=\"https://colab.research.google.com/github/KyleAndreyEnverzo/CPE-201L----CPE-2-B/blob/main/ENVERZO--DSA---Lab_4.ipynb\" target=\"_parent\"><img src=\"https://colab.research.google.com/assets/colab-badge.svg\" alt=\"Open In Colab\"/></a>"
      ]
    },
    {
      "cell_type": "code",
      "execution_count": 8,
      "metadata": {
        "id": "6pbcOxjEnczT",
        "colab": {
          "base_uri": "https://localhost:8080/"
        },
        "outputId": "d229b1bc-41bd-4fe9-b63a-21108f245fdc"
      },
      "outputs": [
        {
          "output_type": "stream",
          "name": "stdout",
          "text": [
            "Constructor called for: Apple\n",
            "Constructor called for: Banana\n",
            "Constructor called for: Lettuce\n",
            "Constructor called for: Broccoli\n",
            "\n",
            "--- Jenna's Grocery List ---\n",
            "Name: Apple | Price: 10.0 | Quantity: 7 | Total: 70.0\n",
            "Name: Banana | Price: 10.0 | Quantity: 8 | Total: 80.0\n",
            "Name: Lettuce | Price: 50.0 | Quantity: 10 | Total: 500.0\n",
            "Name: Broccoli | Price: 60.0 | Quantity: 12 | Total: 720.0\n",
            "\n",
            "Total Price: 1370.0\n",
            "\n",
            "Removing Lettuce...\n",
            "\n",
            "--- Grocery List After Deleting Lettuce ---\n",
            "Name: Apple | Price: 10.0 | Quantity: 7 | Total: 70.0\n",
            "Name: Banana | Price: 10.0 | Quantity: 8 | Total: 80.0\n",
            "Name: Broccoli | Price: 60.0 | Quantity: 12 | Total: 720.0\n",
            "\n",
            "Total Price after removal: 870.0\n"
          ]
        }
      ],
      "source": [
        "# Problem 1\n",
        "class GroceryItem:\n",
        "    def __init__(self, item_name=\"\", item_price=0.0, item_quantity=0):\n",
        "        self.name = item_name\n",
        "        self.price = item_price\n",
        "        self.quantity = item_quantity\n",
        "        print(f\"Constructor called for: {self.name}\")\n",
        "\n",
        "    def __del__(self):\n",
        "        pass\n",
        "\n",
        "    def make_copy(self):\n",
        "        print(f\"Copy constructor called for: {self.name}\")\n",
        "        return GroceryItem(self.name, self.price, self.quantity)\n",
        "\n",
        "    def copy_from(self, source):\n",
        "        print(f\"Copy assignment called for: {source.name}\")\n",
        "        self.name = source.name\n",
        "        self.price = source.price\n",
        "        self.quantity = source.quantity\n",
        "\n",
        "    def calculate_sum(self):\n",
        "        return self.price * self.quantity\n",
        "\n",
        "    def show(self):\n",
        "        print(f\"Name: {self.name} | Price: {self.price} | Quantity: {self.quantity} | Total: {self.calculate_sum()}\")\n",
        "\n",
        "# Subclasses (keeping same hierarchy)\n",
        "class Fruit(GroceryItem):\n",
        "    pass\n",
        "\n",
        "class Vegetable(GroceryItem):\n",
        "    pass\n",
        "\n",
        "# Problem 2\n",
        "shopping_cart = [\n",
        "    Fruit(\"Apple\", 10.0, 7),\n",
        "    Fruit(\"Banana\", 10.0, 8),\n",
        "    Vegetable(\"Lettuce\", 50.0, 10),\n",
        "    Vegetable(\"Broccoli\", 60.0, 12)\n",
        "]\n",
        "\n",
        "# Problem 3\n",
        "def get_total_cost(items):\n",
        "    running_total = 0\n",
        "    for product in items:\n",
        "        running_total += product.calculate_sum()\n",
        "    return running_total\n",
        "\n",
        "print(\"\\n--- Jenna's Grocery List ---\")\n",
        "for item in shopping_cart:\n",
        "    item.show()\n",
        "\n",
        "print(\"\\nTotal Price:\", get_total_cost(shopping_cart))\n",
        "\n",
        "# Problem 4\n",
        "print(\"\\nRemoving Lettuce...\")\n",
        "shopping_cart = [product for product in shopping_cart if product.name != \"Lettuce\"]\n",
        "\n",
        "print(\"\\n--- Grocery List After Deleting Lettuce ---\")\n",
        "for item in shopping_cart:\n",
        "    item.show()\n",
        "\n",
        "# New total after removal\n",
        "print(\"\\nTotal Price after removal:\", get_total_cost(shopping_cart))"
      ]
    }
  ]
}