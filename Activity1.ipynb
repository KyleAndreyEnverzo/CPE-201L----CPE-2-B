{
  "nbformat": 4,
  "nbformat_minor": 0,
  "metadata": {
    "colab": {
      "provenance": [],
      "authorship_tag": "ABX9TyNE2xpcqeJsDdt3iV4ceIx0",
      "include_colab_link": true
    },
    "kernelspec": {
      "name": "python3",
      "display_name": "Python 3"
    },
    "language_info": {
      "name": "python"
    }
  },
  "cells": [
    {
      "cell_type": "markdown",
      "metadata": {
        "id": "view-in-github",
        "colab_type": "text"
      },
      "source": [
        "<a href=\"https://colab.research.google.com/github/KyleAndreyEnverzo/CPE-201L----CPE-2-B/blob/main/Activity1.ipynb\" target=\"_parent\"><img src=\"https://colab.research.google.com/assets/colab-badge.svg\" alt=\"Open In Colab\"/></a>"
      ]
    },
    {
      "cell_type": "code",
      "execution_count": 23,
      "metadata": {
        "id": "x4xBfM-jWwi4",
        "colab": {
          "base_uri": "https://localhost:8080/"
        },
        "outputId": "bebb1992-9913-4c15-e25d-ae451f05feb1"
      },
      "outputs": [
        {
          "output_type": "stream",
          "name": "stdout",
          "text": [
            "314.1592653589793\n"
          ]
        }
      ],
      "source": [
        "import math\n",
        "\n",
        "def area_of_circle(radius):\n",
        "  print (math.pi * radius**2)\n",
        "\n",
        "area_of_circle(10)"
      ]
    },
    {
      "cell_type": "code",
      "source": [
        "import math\n",
        "def area_of_circle(diameter):\n",
        "    print (math.pi*diameter**2/4)\n",
        "\n",
        "area_of_circle(20)"
      ],
      "metadata": {
        "colab": {
          "base_uri": "https://localhost:8080/"
        },
        "id": "pmrVnAqSdGvt",
        "outputId": "dc768ff1-691e-4546-c47c-87c5793e7059"
      },
      "execution_count": 24,
      "outputs": [
        {
          "output_type": "stream",
          "name": "stdout",
          "text": [
            "314.1592653589793\n"
          ]
        }
      ]
    }
  ]
}